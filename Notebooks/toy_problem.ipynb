{
 "cells": [
  {
   "cell_type": "code",
   "execution_count": null,
   "id": "85d0d4d4",
   "metadata": {},
   "outputs": [],
   "source": [
    "import numpy as np\n",
    "import matplotlib.pyplot as plt\n",
    "import pandas as pd\n",
    "from   scipy import stats\n",
    "from   copy import deepcopy\n",
    "import os\n",
    "import sys\n",
    "import glob\n",
    "\n",
    "sys.path.append('/Users/research/projects/alderaan/')\n",
    "from alderaan.utils import weighted_percentile"
   ]
  },
  {
   "cell_type": "markdown",
   "id": "dadc462e",
   "metadata": {},
   "source": [
    "# Generate synthetic posteriors"
   ]
  },
  {
   "cell_type": "code",
   "execution_count": null,
   "id": "6d5e0526",
   "metadata": {},
   "outputs": [],
   "source": [
    "NPL = 100\n",
    "\n",
    "mu_true = stats.beta(0.9, 3.0).rvs(NPL)\n",
    "\n",
    "data = []\n",
    "\n",
    "for i in range(NPL):\n",
    "    d = pd.DataFrame(columns=['precise noisy unbounded symmetric mixed'.split()])\n",
    "    \n",
    "    # precise (bounded) measurements\n",
    "    sd = 0.03\n",
    "    mu = stats.truncnorm(-mu_true[i]/sd, (1-mu_true[i])/sd, loc=mu_true[i], scale=sd).rvs(1)\n",
    "    d.precise = stats.truncnorm(-mu/sd, (1-mu)/sd, loc=mu, scale=sd).rvs(3000)\n",
    "    \n",
    "    # noisy (bounded) measurements\n",
    "    sd = 0.2\n",
    "    mu = stats.truncnorm(-mu_true[i]/sd, (1-mu_true[i])/sd, loc=mu_true[i], scale=sd).rvs(1)\n",
    "    d.noisy = stats.truncnorm(-mu/sd, (1-mu)/sd, loc=mu, scale=sd).rvs(3000)\n",
    "    \n",
    "    # unbounded (noisy) measurements\n",
    "    sd = 0.2\n",
    "    mu = stats.norm(loc=mu_true[i], scale=sd).rvs(1)\n",
    "    d.unbounded = stats.norm(loc=mu, scale=sd).rvs(3000)\n",
    "    \n",
    "    # symmetric (noisy, unbounded) measurements\n",
    "    sd = 0.2\n",
    "    mu = stats.norm(loc=mu_true[i], scale=sd).rvs(1) * np.random.choice([-1,1])\n",
    "    d.symmetric = stats.norm(loc=mu, scale=sd).rvs(3000)\n",
    "    \n",
    "    # 3-Gaussian Mixture (unbounded)\n",
    "    mu = [0.1, 0.5, 0.7]\n",
    "    sd = [0.15, 0.3, 0.05]\n",
    "    \n",
    "    mixed = np.zeros(3000)\n",
    "    for i in range(3):\n",
    "        mixed[i*1000:(i+1)*1000] = stats.norm(mu[i], sd[i]).rvs(1000)\n",
    "    d.mixed = mixed\n",
    "        \n",
    "    # store simulated posteriors\n",
    "    data.append(d)"
   ]
  },
  {
   "cell_type": "markdown",
   "id": "146bc3ce",
   "metadata": {},
   "source": [
    "## Run the hierarchical model"
   ]
  },
  {
   "cell_type": "code",
   "execution_count": null,
   "id": "226778ff",
   "metadata": {},
   "outputs": [],
   "source": [
    "import aesara_theano_fallback.tensor as T\n",
    "from   aesara_theano_fallback import aesara as theano\n",
    "from   celerite2.theano import GaussianProcess\n",
    "from   celerite2.theano import terms as GPterms\n",
    "import pymc3 as pm\n",
    "import pymc3_ext as pmx\n",
    "import corner"
   ]
  },
  {
   "cell_type": "markdown",
   "id": "cfbec8f6",
   "metadata": {},
   "source": [
    "#### Non-parametric"
   ]
  },
  {
   "cell_type": "code",
   "execution_count": null,
   "id": "b20a2dcc",
   "metadata": {},
   "outputs": [],
   "source": [
    "NPL = len(data)\n",
    "Nbin = 100\n",
    "\n",
    "bin_edges = np.linspace(-2, 2, Nbin+1)\n",
    "bin_widths = bin_edges[1:] - bin_edges[:-1] \n",
    "bin_centers = 0.5*(bin_edges[:-1] + bin_edges[1:])\n",
    "\n",
    "with pm.Model() as model:\n",
    "    # hyperpriors on GP\n",
    "    log_s = pm.Uniform(\"log_s\", lower=-1, upper=5, testval=0)\n",
    "    log_r = pm.Uniform(\"log_r\", lower=-1, upper=5, testval=0)\n",
    "    kernel = GPterms.Matern32Term(sigma=T.exp(log_s), rho=T.exp(log_r))\n",
    "    \n",
    "    # calculate bin heights from latent draws\n",
    "    latent = pm.Normal(\"latent\", mu=0, sd=1, shape=Nbin)\n",
    "    LS = T.exp(log_s)*latent\n",
    "\n",
    "    gp = GaussianProcess(kernel, mean=T.mean(LS))\n",
    "    gp.compute(bin_centers, diag=T.var(LS[1:]-LS[:-1])/T.sqrt(2)*T.ones(Nbin))\n",
    "    \n",
    "    beta  = gp.predict(LS)\n",
    "    ln_pdf = pm.Deterministic(\"ln_pdf\", beta - T.log(T.sum(T.exp(beta)*bin_widths)))\n",
    "    \n",
    "    # hierarchical model\n",
    "    X = [None]*NPL\n",
    "    C = [None]*NPL\n",
    "    Z = T.zeros(NPL, dtype='float')\n",
    "    \n",
    "    for i, d in enumerate(data):\n",
    "        inds = np.digitize(d.symmetric.values, bin_edges[1:], right=True)\n",
    "        X[i] = ln_pdf[inds]\n",
    "        C[i] = T.max(X[i])\n",
    "        Z = T.set_subtensor(Z[i], C[i] + T.log(T.sum(T.exp(X[i]-C[i]))))\n",
    "    \n",
    "    # likelihood\n",
    "    pm.Potential(\"ln_like\", T.sum(Z))"
   ]
  },
  {
   "cell_type": "code",
   "execution_count": null,
   "id": "70f2c10b",
   "metadata": {},
   "outputs": [],
   "source": [
    "with model:\n",
    "    trace = pmx.sample(tune=5000, draws=1000, chains=2, target_accept=0.9, return_inferencedata=True)"
   ]
  },
  {
   "cell_type": "code",
   "execution_count": null,
   "id": "983cd236",
   "metadata": {},
   "outputs": [],
   "source": [
    "x = np.exp(trace.posterior.ln_pdf.values)\n",
    "x = x.reshape(-1,x.shape[-1])\n",
    "\n",
    "plt.figure()\n",
    "plt.fill_between(bin_centers, np.percentile(x, 16, axis=0), np.percentile(x, 84, axis=0), color='r', alpha=0.3)\n",
    "plt.plot(bin_centers, np.median(x, axis=0), color='r', lw=2, label='posterior')\n",
    "plt.plot(bin_centers, stats.beta(0.9,3.0).pdf(bin_centers)/2, 'k--')\n",
    "plt.hist(d.mixed.values, bins=20, color='lightgrey')\n",
    "plt.ylim(0, None)\n",
    "#plt.xlim(-0.1, 1)\n",
    "plt.yticks([])\n",
    "plt.xlabel(\"e\", fontsize=24)\n",
    "plt.ylabel(\"P(e)\", fontsize=24)\n",
    "plt.legend(fontsize=16)\n",
    "plt.show()"
   ]
  },
  {
   "cell_type": "code",
   "execution_count": null,
   "id": "6ce93a65",
   "metadata": {},
   "outputs": [],
   "source": [
    "_ = corner.corner(trace, var_names=['log_s', 'log_r'])"
   ]
  }
 ],
 "metadata": {
  "kernelspec": {
   "display_name": "Python 3 (ipykernel)",
   "language": "python",
   "name": "python3"
  },
  "language_info": {
   "codemirror_mode": {
    "name": "ipython",
    "version": 3
   },
   "file_extension": ".py",
   "mimetype": "text/x-python",
   "name": "python",
   "nbconvert_exporter": "python",
   "pygments_lexer": "ipython3",
   "version": "3.9.7"
  }
 },
 "nbformat": 4,
 "nbformat_minor": 5
}
